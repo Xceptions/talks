{
 "cells": [
  {
   "cell_type": "code",
   "execution_count": 7,
   "id": "214efa2a",
   "metadata": {},
   "outputs": [],
   "source": [
    "import numpy as np\n",
    "import pandas as pd\n",
    "\n",
    "from collections import Counter"
   ]
  },
  {
   "cell_type": "code",
   "execution_count": 9,
   "id": "af076cc7",
   "metadata": {},
   "outputs": [],
   "source": [
    "# item_buying_history = key-value store that maps item to users that bought\n",
    "# user_buying_history = key-value store that maps users to items they bought\n",
    "\n",
    "item_buying_history = {\n",
    "    \"iPhone 13\": [\"Asamoah\", \"Funmi\", \"Chinedu\", \"Michael\"],\n",
    "    \"rolex\": [\"Hilda\", \"Samson\", \"David\", \"Moses\", \"Rustin\", \"Chen\", \"Inderjit\"],\n",
    "    \"Paco Rabanne\": [\"Chika\", \"Naz\", \"Jonathan\"]\n",
    "}\n",
    "\n",
    "user_buying_history = {\n",
    "    \"Asamoah\": [\"iPhone charger\", \"iPhone earphones\", \"iPhone 13\", \"tuxedo\", \"Apple Watch\"],\n",
    "    \"Hilda\": [\"Mechanical Keyboards\", \"Logitech C920 HD Pro Webcam\"],\n",
    "    \"Chen\": [\"Nelson Ball Wall Clock\"],\n",
    "    \"Funmi\": [\"iPhone earphones\", \"Louis Vuitton handbag\", \"iPhone 13\", \"iPhone charger\", \"ear rings\", \"Apple Watch\"],\n",
    "    \"Chinedu\": [\"iPhone 13\", \"iPhone earphones\", \"Calvin Klein Euphoria for Men\", \"Apple Watch\"],\n",
    "    \"Michael\": [\"Prada shoes\", \"Nike shoes\", \"iPhone 13\", \"Play Station 5\", \"Apple Watch\", \"iPhone charger\"],\n",
    "    \"Chika\": [\"Ergonomic office chairs\", \"Strappy Backless Sundress\", \"Dell XPS\"]\n",
    "}"
   ]
  },
  {
   "cell_type": "code",
   "execution_count": 11,
   "id": "9bc63673",
   "metadata": {},
   "outputs": [
    {
     "data": {
      "text/plain": [
       "Counter({'iPhone 13': 4,\n",
       "         'Apple Watch': 4,\n",
       "         'iPhone charger': 3,\n",
       "         'iPhone earphones': 3,\n",
       "         'tuxedo': 1,\n",
       "         'Louis Vuitton handbag': 1,\n",
       "         'ear rings': 1,\n",
       "         'Calvin Klein Euphoria for Men': 1,\n",
       "         'Prada shoes': 1,\n",
       "         'Nike shoes': 1,\n",
       "         'Play Station 5': 1})"
      ]
     },
     "execution_count": 11,
     "metadata": {},
     "output_type": "execute_result"
    }
   ],
   "source": [
    "# NOTE: This is usually done within a timeframe e.g. three months\n",
    "\n",
    "# get all customers that purchased the seed item\n",
    "# find a union of all the items these customers bought\n",
    "# rank them according to their counts\n",
    "\n",
    "# For DSA junkies: a more optimized way will be to perform the counting directly\n",
    "# in the first pass through the user_buying_history. It saves us one pass\n",
    "\n",
    "seed_item = \"iPhone 13\"\n",
    "\n",
    "items_bought_union = []\n",
    "\n",
    "for customer in item_buying_history[seed_item]:\n",
    "    items_bought_union.extend( user_buying_history[customer] )\n",
    "    \n",
    "Counter(items_bought_union) # Counter - a python inbuilt method that performs list / string counting"
   ]
  },
  {
   "cell_type": "code",
   "execution_count": null,
   "id": "bd1d7afb",
   "metadata": {},
   "outputs": [],
   "source": []
  }
 ],
 "metadata": {
  "kernelspec": {
   "display_name": "Python 3 (ipykernel)",
   "language": "python",
   "name": "python3"
  },
  "language_info": {
   "codemirror_mode": {
    "name": "ipython",
    "version": 3
   },
   "file_extension": ".py",
   "mimetype": "text/x-python",
   "name": "python",
   "nbconvert_exporter": "python",
   "pygments_lexer": "ipython3",
   "version": "3.9.16"
  }
 },
 "nbformat": 4,
 "nbformat_minor": 5
}
