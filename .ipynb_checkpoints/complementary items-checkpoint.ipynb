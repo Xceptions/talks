{
 "cells": [
  {
   "cell_type": "code",
   "execution_count": 1,
   "id": "214efa2a",
   "metadata": {},
   "outputs": [],
   "source": [
    "import numpy as np\n",
    "import pandas as pd\n",
    "\n",
    "from collections import Counter"
   ]
  },
  {
   "cell_type": "code",
   "execution_count": 2,
   "id": "af076cc7",
   "metadata": {},
   "outputs": [],
   "source": [
    "# item_co_purchase_history = graph database store that maps item to users that bought bogether\n",
    "\n",
    "item_co_purchase_history = {\n",
    "    \"iPhone 13\": [\n",
    "        [\"iPhone charger\"], \n",
    "        [\"iPhone earphones\", \"Apple Watch\"], \n",
    "        [\"tuxedo\", \"Calvin Klein Euphoria for Men\"], \n",
    "        [\"Apple Watch\"],\n",
    "        [\"Nelson Ball Wall Clock\", \"Louis Vuitton handbag\"],\n",
    "        [\"iPhone earphones\", \"iPhone charger\"],\n",
    "        [\"Mechanical Keyboards\", \"iPhone charger\", \"Apple Watch\"]\n",
    "    ],\n",
    "    \"tuxedo\": [\n",
    "        [\"Prada shoes\", \"Nike shoes\"],\n",
    "        [\"iPhone 13\", \"Calvin Klein Euphoria for Men\"],\n",
    "        [\"Play Station 5\", \"Apple Watch\", \"iPhone charger\"],\n",
    "        [\"Calvin Klein Euphoria for Men\"]\n",
    "    ],\n",
    "    \"macbook\": [\n",
    "        [\"Ergonomic office chairs\", \"Strappy Backless Sundress\"], \n",
    "        [\"Dell XPS\", \"Logitech C920 HD Pro Webcam\"]\n",
    "    ]\n",
    "}"
   ]
  },
  {
   "cell_type": "code",
   "execution_count": 3,
   "id": "9bc63673",
   "metadata": {},
   "outputs": [
    {
     "data": {
      "text/plain": [
       "Counter({'iPhone charger': 3,\n",
       "         'Apple Watch': 3,\n",
       "         'iPhone earphones': 2,\n",
       "         'tuxedo': 1,\n",
       "         'Calvin Klein Euphoria for Men': 1,\n",
       "         'Nelson Ball Wall Clock': 1,\n",
       "         'Louis Vuitton handbag': 1,\n",
       "         'Mechanical Keyboards': 1})"
      ]
     },
     "execution_count": 3,
     "metadata": {},
     "output_type": "execute_result"
    }
   ],
   "source": [
    "# get all items co-purchased with the seed item\n",
    "# find a union of all the items these customers bought\n",
    "# rank them according to their counts\n",
    "\n",
    "# For DSA junkies: consider using a sorted dictionary to store the results\n",
    "\n",
    "seed_item = \"iPhone 13\"\n",
    "\n",
    "items_bought_union = []\n",
    "\n",
    "for buying_pair in item_co_purchase_history[seed_item]:\n",
    "    items_bought_union.extend( buying_pair )\n",
    "    \n",
    "Counter(items_bought_union) # Counter - a python inbuilt method that performs list / string counting"
   ]
  },
  {
   "cell_type": "code",
   "execution_count": null,
   "id": "bd1d7afb",
   "metadata": {},
   "outputs": [],
   "source": []
  }
 ],
 "metadata": {
  "kernelspec": {
   "display_name": "Python 3 (ipykernel)",
   "language": "python",
   "name": "python3"
  },
  "language_info": {
   "codemirror_mode": {
    "name": "ipython",
    "version": 3
   },
   "file_extension": ".py",
   "mimetype": "text/x-python",
   "name": "python",
   "nbconvert_exporter": "python",
   "pygments_lexer": "ipython3",
   "version": "3.9.16"
  }
 },
 "nbformat": 4,
 "nbformat_minor": 5
}
